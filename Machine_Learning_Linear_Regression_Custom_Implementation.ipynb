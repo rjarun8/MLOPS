{
  "nbformat": 4,
  "nbformat_minor": 0,
  "metadata": {
    "colab": {
      "name": "Machine Learning Linear Regression Custom Implementation.ipynb",
      "provenance": [],
      "collapsed_sections": [],
      "authorship_tag": "ABX9TyPclN5s3NkWxcol/ZmZvqKq",
      "include_colab_link": true
    },
    "kernelspec": {
      "name": "python3",
      "display_name": "Python 3"
    },
    "language_info": {
      "name": "python"
    },
    "accelerator": "GPU"
  },
  "cells": [
    {
      "cell_type": "markdown",
      "metadata": {
        "id": "view-in-github",
        "colab_type": "text"
      },
      "source": [
        "<a href=\"https://colab.research.google.com/github/rjarun8/MLOPS/blob/main/Machine_Learning_Linear_Regression_Custom_Implementation.ipynb\" target=\"_parent\"><img src=\"https://colab.research.google.com/assets/colab-badge.svg\" alt=\"Open In Colab\"/></a>"
      ]
    },
    {
      "cell_type": "markdown",
      "metadata": {
        "id": "_OcWvLluZM8x"
      },
      "source": [
        "Generate Data"
      ]
    },
    {
      "cell_type": "code",
      "metadata": {
        "id": "FViUlvmOY98J"
      },
      "source": [
        "#y = 3.5X + noise\n",
        "\n",
        "import numpy as np\n",
        "import pandas as pd\n",
        "import matplotlib.pyplot as plt\n",
        "\n",
        "\n",
        "SEED=42\n",
        "NUM_SAMPLES=100\n",
        "\n",
        "#set seed\n",
        "np.random.seed(SEED)\n",
        "\n",
        "def generated_data(NUM_SAMPLES):\n",
        "  X = np.array(range(NUM_SAMPLES))\n",
        "  random_noise = np.random.uniform(-10,20,size=NUM_SAMPLES)\n",
        "  y = 3.5*X + random_noise\n",
        "  return (X,y)"
      ],
      "execution_count": null,
      "outputs": []
    },
    {
      "cell_type": "code",
      "metadata": {
        "colab": {
          "base_uri": "https://localhost:8080/"
        },
        "id": "nOt0AS9maOI1",
        "outputId": "f66c1acc-acb0-4841-b249-5031221b009d"
      },
      "source": [
        "X , y = generated_data(NUM_SAMPLES)\n",
        "data = np.vstack([X,y]).T\n",
        "print(data.shape)\n",
        "print(X[98:],y[98:])\n"
      ],
      "execution_count": null,
      "outputs": [
        {
          "output_type": "stream",
          "text": [
            "(100, 2)\n",
            "[98 99] [333.7625738  339.73674281]\n"
          ],
          "name": "stdout"
        }
      ]
    },
    {
      "cell_type": "code",
      "metadata": {
        "colab": {
          "base_uri": "https://localhost:8080/",
          "height": 143
        },
        "id": "80H0_BWraVtS",
        "outputId": "f44d2178-662b-40ad-b882-4f26fee1fd10"
      },
      "source": [
        "#load data into pandas dataframe\n",
        "df = pd.DataFrame(data,columns=['X','y'])\n",
        "X=df[['X']].values\n",
        "y=df[['y']].values\n",
        "df.head(3)"
      ],
      "execution_count": null,
      "outputs": [
        {
          "output_type": "execute_result",
          "data": {
            "text/html": [
              "<div>\n",
              "<style scoped>\n",
              "    .dataframe tbody tr th:only-of-type {\n",
              "        vertical-align: middle;\n",
              "    }\n",
              "\n",
              "    .dataframe tbody tr th {\n",
              "        vertical-align: top;\n",
              "    }\n",
              "\n",
              "    .dataframe thead th {\n",
              "        text-align: right;\n",
              "    }\n",
              "</style>\n",
              "<table border=\"1\" class=\"dataframe\">\n",
              "  <thead>\n",
              "    <tr style=\"text-align: right;\">\n",
              "      <th></th>\n",
              "      <th>X</th>\n",
              "      <th>y</th>\n",
              "    </tr>\n",
              "  </thead>\n",
              "  <tbody>\n",
              "    <tr>\n",
              "      <th>0</th>\n",
              "      <td>0.0</td>\n",
              "      <td>1.236204</td>\n",
              "    </tr>\n",
              "    <tr>\n",
              "      <th>1</th>\n",
              "      <td>1.0</td>\n",
              "      <td>22.021429</td>\n",
              "    </tr>\n",
              "    <tr>\n",
              "      <th>2</th>\n",
              "      <td>2.0</td>\n",
              "      <td>18.959818</td>\n",
              "    </tr>\n",
              "  </tbody>\n",
              "</table>\n",
              "</div>"
            ],
            "text/plain": [
              "     X          y\n",
              "0  0.0   1.236204\n",
              "1  1.0  22.021429\n",
              "2  2.0  18.959818"
            ]
          },
          "metadata": {},
          "execution_count": 3
        }
      ]
    },
    {
      "cell_type": "code",
      "metadata": {
        "colab": {
          "base_uri": "https://localhost:8080/",
          "height": 281
        },
        "id": "qgjhygstaW7V",
        "outputId": "3c15e499-29a3-4839-aef8-4fb64e116360"
      },
      "source": [
        "plt.title('Generated Data')\n",
        "plt.scatter(x=X,y=y)\n",
        "plt.show()"
      ],
      "execution_count": null,
      "outputs": [
        {
          "output_type": "display_data",
          "data": {
            "image/png": "[encoded data removed]",
            "text/plain": [
              "<Figure size 432x288 with 1 Axes>"
            ]
          },
          "metadata": {
            "needs_background": "light"
          }
        }
      ]
    },
    {
      "cell_type": "code",
      "metadata": {
        "colab": {
          "base_uri": "https://localhost:8080/"
        },
        "id": "5uhAOOpRbavO",
        "outputId": "b5899cc6-4d3b-4be7-e008-17ce53af5864"
      },
      "source": [
        "TRAIN_SIZE = 0.85\n",
        "TEST_SIZE = 0.05\n",
        "VAL_SIZE = 0.10\n",
        "#shuffle data\n",
        "indices = list(range(NUM_SAMPLES))\n",
        "indces = np.random.shuffle(indices)\n",
        "X = X[indices]\n",
        "y = y[indices]\n",
        "\n",
        "#data split\n",
        "\n",
        "train_start = 0\n",
        "train_end = int(TRAIN_SIZE*NUM_SAMPLES)\n",
        "val_start = train_end\n",
        "val_end = int(VAL_SIZE*NUM_SAMPLES) + val_start\n",
        "test_start = val_end\n",
        "\n",
        "X_train = X[train_start:train_end]\n",
        "y_train = y[train_start:train_end]\n",
        "X_val = X[val_start:val_end]\n",
        "y_val = y[val_start:val_end]\n",
        "X_test = X[test_start:]\n",
        "y_test = y[test_start:]\n",
        "\n",
        "print('Train Shape :',X_train.shape , y_train.shape)\n",
        "print('Val Shape :',X_val.shape , y_val.shape)\n",
        "print('Test Shape :',X_test.shape , y_test.shape)"
      ],
      "execution_count": null,
      "outputs": [
        {
          "output_type": "stream",
          "text": [
            "Train Shape : (85, 1) (85, 1)\n",
            "Val Shape : (10, 1) (10, 1)\n",
            "Test Shape : (5, 1) (5, 1)\n"
          ],
          "name": "stdout"
        }
      ]
    },
    {
      "cell_type": "markdown",
      "metadata": {
        "id": "_PzUd508eO7X"
      },
      "source": [
        "Standardize Data\n",
        "\n",
        "x-mean/sd"
      ]
    },
    {
      "cell_type": "code",
      "metadata": {
        "id": "4YrKW_MQcANE"
      },
      "source": [
        "def standardize(data,mean,sd):\n",
        "  return (data-mean)/sd"
      ],
      "execution_count": null,
      "outputs": []
    },
    {
      "cell_type": "code",
      "metadata": {
        "id": "WX0vy1wkecd7"
      },
      "source": [
        "X_train_mean = np.mean(X_train)\n",
        "y_train_mean = np.mean(y_train)\n",
        "X_train_sd = np.std(X_train)\n",
        "y_train_sd = np.std(y_train)"
      ],
      "execution_count": null,
      "outputs": []
    },
    {
      "cell_type": "code",
      "metadata": {
        "id": "3PrdgsPofDi-"
      },
      "source": [
        "X_train =  standardize(X_train,X_train_mean,X_train_sd)\n",
        "y_train = standardize(y_train,y_train_mean,y_train_sd)\n",
        "X_val = standardize(X_val,X_train_mean,X_train_sd)\n",
        "y_val = standardize(y_val,y_train_mean,y_train_sd)\n",
        "X_test = standardize(X_test,X_train_mean,X_train_sd)\n",
        "y_test = standardize(y_test,y_train_mean,y_train_sd)"
      ],
      "execution_count": null,
      "outputs": []
    },
    {
      "cell_type": "code",
      "metadata": {
        "id": "j4JnHXcPgxoX"
      },
      "source": [
        "INPUT_DIM = X_train.shape[1]\n",
        "OUTPUT_DIM = y_train.shape[1]"
      ],
      "execution_count": null,
      "outputs": []
    },
    {
      "cell_type": "markdown",
      "metadata": {
        "id": "6nyLxThBj1oN"
      },
      "source": [
        "Initializing weghts and bias"
      ]
    },
    {
      "cell_type": "code",
      "metadata": {
        "colab": {
          "base_uri": "https://localhost:8080/"
        },
        "id": "OAM9Mernhftp",
        "outputId": "07ee2e5d-c865-40e6-9a7f-632b00c33fae"
      },
      "source": [
        "wt = np.random.randn(INPUT_DIM,OUTPUT_DIM)*0.01\n",
        "bias = np.zeros((1,1))\n",
        "print('wt.shape', wt.shape)\n",
        "print('b.shape', bias.shape)"
      ],
      "execution_count": null,
      "outputs": [
        {
          "output_type": "stream",
          "text": [
            "wt.shape (1, 1)\n",
            "b.shape (1, 1)\n"
          ],
          "name": "stdout"
        }
      ]
    },
    {
      "cell_type": "markdown",
      "metadata": {
        "id": "mW2P2T93j4kb"
      },
      "source": [
        "Building Model"
      ]
    },
    {
      "cell_type": "code",
      "metadata": {
        "colab": {
          "base_uri": "https://localhost:8080/"
        },
        "id": "sr-sx3G8ijXH",
        "outputId": "3e7f8b46-8152-40f9-eb60-409307523eb8"
      },
      "source": [
        "y_pred = np.dot(X_train , wt) + bias\n",
        "print('predicted.shape :' , y_pred.shape)"
      ],
      "execution_count": null,
      "outputs": [
        {
          "output_type": "stream",
          "text": [
            "predicted.shape : (85, 1)\n"
          ],
          "name": "stdout"
        }
      ]
    },
    {
      "cell_type": "markdown",
      "metadata": {
        "id": "_YQJuDnDkcrc"
      },
      "source": [
        "Create Loss function"
      ]
    },
    {
      "cell_type": "code",
      "metadata": {
        "colab": {
          "base_uri": "https://localhost:8080/"
        },
        "id": "M9P1aC9qkJWZ",
        "outputId": "e9e094f2-7935-4a6a-86db-e8a846b81582"
      },
      "source": [
        "# Loss\n",
        "N = len(y_train)\n",
        "loss = (1/N) * np.sum((y_train - y_pred)**2)\n",
        "print (f\"loss: {loss:.2f}\")\n"
      ],
      "execution_count": null,
      "outputs": [
        {
          "output_type": "stream",
          "text": [
            "loss: 1.00\n"
          ],
          "name": "stdout"
        }
      ]
    },
    {
      "cell_type": "markdown",
      "metadata": {
        "id": "K1MOOREDk1oK"
      },
      "source": [
        "Gradient Calculation"
      ]
    },
    {
      "cell_type": "code",
      "metadata": {
        "id": "_fmS-UhzknY0"
      },
      "source": [
        "# Backpropagation\n",
        "djW = -(2/N) * np.sum((y_train - y_pred) * X_train)\n",
        "djb = -(2/N) * np.sum((y_train - y_pred) * 1)\n"
      ],
      "execution_count": null,
      "outputs": []
    },
    {
      "cell_type": "code",
      "metadata": {
        "colab": {
          "base_uri": "https://localhost:8080/"
        },
        "id": "q2m_sEGyk77-",
        "outputId": "1973d5c6-1d08-4d52-9b8a-3b3a5ec97f37"
      },
      "source": [
        "LR = 1e-1\n",
        "print('learning rate ', LR)"
      ],
      "execution_count": null,
      "outputs": [
        {
          "output_type": "stream",
          "text": [
            "learning rate  0.1\n"
          ],
          "name": "stdout"
        }
      ]
    },
    {
      "cell_type": "code",
      "metadata": {
        "id": "e437C99CmK2J"
      },
      "source": [
        "wt += -(LR * djW)\n",
        "bias += -(LR*djb)"
      ],
      "execution_count": null,
      "outputs": []
    },
    {
      "cell_type": "code",
      "metadata": {
        "colab": {
          "base_uri": "https://localhost:8080/"
        },
        "id": "T_3T75S5nBx0",
        "outputId": "2f94e9d8-a9ef-4fe5-a856-8735f7e61da4"
      },
      "source": [
        "NUM_EPOCHS = 1000\n",
        "\n",
        "W = np.random.randn(INPUT_DIM,OUTPUT_DIM)*0.01\n",
        "B = np.zeros((1,))\n",
        "\n",
        "#Training Loop\n",
        "\n",
        "for epoch_num in range(NUM_EPOCHS):\n",
        "\n",
        "  #Forward Pass\n",
        "  y_pred = np.dot(X_train,W) + B\n",
        "\n",
        "  loss = (1/N) * np.sum((y_train - y_pred)**2)\n",
        "\n",
        "  if epoch_num%10 == 0:\n",
        "    print(f'weights {W} ,  bias {B}')\n",
        "    print(f'epoch num {epoch_num} , loss {loss}')\n",
        "\n",
        "  # Backpropagation\n",
        "  djW = -(2/N) * np.sum((y_train - y_pred) * X_train)\n",
        "  djb = -(2/N) * np.sum((y_train - y_pred) * 1)\n",
        "\n",
        "  #update weights and bias\n",
        "\n",
        "  W += -(LR * djW)\n",
        "  B += -(LR*djb)\n",
        "\n",
        "\n",
        "  "
      ],
      "execution_count": null,
      "outputs": [
        {
          "output_type": "stream",
          "text": [
            "weights [[0.00617004]] ,  bias [0.]\n",
            "epoch num 0 , loss 0.987745359478084\n",
            "weights [[0.8898621]] ,  bias [1.50206645e-16]\n",
            "epoch num 10 , loss 0.01896157484130793\n",
            "weights [[0.98474782]] ,  bias [1.64051779e-16]\n",
            "epoch num 20 , loss 0.007792258255086439\n",
            "weights [[0.99493609]] ,  bias [1.642477e-16]\n",
            "epoch num 30 , loss 0.007663484802246274\n",
            "weights [[0.99603005]] ,  bias [1.62092562e-16]\n",
            "epoch num 40 , loss 0.007662000145416256\n",
            "weights [[0.99614751]] ,  bias [1.67186526e-16]\n",
            "epoch num 50 , loss 0.007661983028488392\n",
            "weights [[0.99616012]] ,  bias [1.61961947e-16]\n",
            "epoch num 60 , loss 0.007661982831143652\n",
            "weights [[0.99616148]] ,  bias [1.67708984e-16]\n",
            "epoch num 70 , loss 0.0076619828288684196\n",
            "weights [[0.99616162]] ,  bias [1.63529321e-16]\n",
            "epoch num 80 , loss 0.0076619828288421905\n",
            "weights [[0.99616164]] ,  bias [1.63268092e-16]\n",
            "epoch num 90 , loss 0.007661982828841885\n",
            "weights [[0.99616164]] ,  bias [1.63464014e-16]\n",
            "epoch num 100 , loss 0.007661982828841883\n",
            "weights [[0.99616164]] ,  bias [1.65357923e-16]\n",
            "epoch num 110 , loss 0.007661982828841883\n",
            "weights [[0.99616164]] ,  bias [1.62419098e-16]\n",
            "epoch num 120 , loss 0.007661982828841883\n",
            "weights [[0.99616164]] ,  bias [1.65553845e-16]\n",
            "epoch num 130 , loss 0.007661982828841883\n",
            "weights [[0.99616164]] ,  bias [1.64770158e-16]\n",
            "epoch num 140 , loss 0.007661982828841883\n",
            "weights [[0.99616164]] ,  bias [1.64508929e-16]\n",
            "epoch num 150 , loss 0.007661982828841881\n",
            "weights [[0.99616164]] ,  bias [1.63137477e-16]\n",
            "epoch num 160 , loss 0.0076619828288418835\n",
            "weights [[0.99616164]] ,  bias [1.65488538e-16]\n",
            "epoch num 170 , loss 0.0076619828288418835\n",
            "weights [[0.99616164]] ,  bias [1.66664068e-16]\n",
            "epoch num 180 , loss 0.007661982828841883\n",
            "weights [[0.99616164]] ,  bias [1.61831333e-16]\n",
            "epoch num 190 , loss 0.0076619828288418835\n",
            "weights [[0.99616164]] ,  bias [1.63006863e-16]\n",
            "epoch num 200 , loss 0.0076619828288418835\n",
            "weights [[0.99616164]] ,  bias [1.64182393e-16]\n",
            "epoch num 210 , loss 0.0076619828288418835\n",
            "weights [[0.99616164]] ,  bias [1.65357923e-16]\n",
            "epoch num 220 , loss 0.0076619828288418835\n",
            "weights [[0.99616164]] ,  bias [1.66533454e-16]\n",
            "epoch num 230 , loss 0.0076619828288418835\n",
            "weights [[0.99616164]] ,  bias [1.61700718e-16]\n",
            "epoch num 240 , loss 0.0076619828288418835\n",
            "weights [[0.99616164]] ,  bias [1.62876248e-16]\n",
            "epoch num 250 , loss 0.0076619828288418835\n",
            "weights [[0.99616164]] ,  bias [1.64051779e-16]\n",
            "epoch num 260 , loss 0.0076619828288418835\n",
            "weights [[0.99616164]] ,  bias [1.65227309e-16]\n",
            "epoch num 270 , loss 0.0076619828288418835\n",
            "weights [[0.99616164]] ,  bias [1.66402839e-16]\n",
            "epoch num 280 , loss 0.0076619828288418835\n",
            "weights [[0.99616164]] ,  bias [1.61570104e-16]\n",
            "epoch num 290 , loss 0.0076619828288418835\n",
            "weights [[0.99616164]] ,  bias [1.62745634e-16]\n",
            "epoch num 300 , loss 0.0076619828288418835\n",
            "weights [[0.99616164]] ,  bias [1.63921164e-16]\n",
            "epoch num 310 , loss 0.0076619828288418835\n",
            "weights [[0.99616164]] ,  bias [1.65096694e-16]\n",
            "epoch num 320 , loss 0.0076619828288418835\n",
            "weights [[0.99616164]] ,  bias [1.66272225e-16]\n",
            "epoch num 330 , loss 0.0076619828288418835\n",
            "weights [[0.99616164]] ,  bias [1.61439489e-16]\n",
            "epoch num 340 , loss 0.0076619828288418835\n",
            "weights [[0.99616164]] ,  bias [1.62615019e-16]\n",
            "epoch num 350 , loss 0.0076619828288418835\n",
            "weights [[0.99616164]] ,  bias [1.6379055e-16]\n",
            "epoch num 360 , loss 0.0076619828288418835\n",
            "weights [[0.99616164]] ,  bias [1.6496608e-16]\n",
            "epoch num 370 , loss 0.0076619828288418835\n",
            "weights [[0.99616164]] ,  bias [1.6614161e-16]\n",
            "epoch num 380 , loss 0.0076619828288418835\n",
            "weights [[0.99616164]] ,  bias [1.61308875e-16]\n",
            "epoch num 390 , loss 0.007661982828841883\n",
            "weights [[0.99616164]] ,  bias [1.62484405e-16]\n",
            "epoch num 400 , loss 0.0076619828288418835\n",
            "weights [[0.99616164]] ,  bias [1.63659935e-16]\n",
            "epoch num 410 , loss 0.0076619828288418835\n",
            "weights [[0.99616164]] ,  bias [1.64835466e-16]\n",
            "epoch num 420 , loss 0.0076619828288418835\n",
            "weights [[0.99616164]] ,  bias [1.66010996e-16]\n",
            "epoch num 430 , loss 0.0076619828288418835\n",
            "weights [[0.99616164]] ,  bias [1.67186526e-16]\n",
            "epoch num 440 , loss 0.007661982828841883\n",
            "weights [[0.99616164]] ,  bias [1.62353791e-16]\n",
            "epoch num 450 , loss 0.0076619828288418835\n",
            "weights [[0.99616164]] ,  bias [1.63529321e-16]\n",
            "epoch num 460 , loss 0.0076619828288418835\n",
            "weights [[0.99616164]] ,  bias [1.64704851e-16]\n",
            "epoch num 470 , loss 0.0076619828288418835\n",
            "weights [[0.99616164]] ,  bias [1.65880381e-16]\n",
            "epoch num 480 , loss 0.0076619828288418835\n",
            "weights [[0.99616164]] ,  bias [1.67055912e-16]\n",
            "epoch num 490 , loss 0.007661982828841883\n",
            "weights [[0.99616164]] ,  bias [1.62223176e-16]\n",
            "epoch num 500 , loss 0.0076619828288418835\n",
            "weights [[0.99616164]] ,  bias [1.63398706e-16]\n",
            "epoch num 510 , loss 0.0076619828288418835\n",
            "weights [[0.99616164]] ,  bias [1.64574237e-16]\n",
            "epoch num 520 , loss 0.0076619828288418835\n",
            "weights [[0.99616164]] ,  bias [1.65749767e-16]\n",
            "epoch num 530 , loss 0.0076619828288418835\n",
            "weights [[0.99616164]] ,  bias [1.66925297e-16]\n",
            "epoch num 540 , loss 0.007661982828841883\n",
            "weights [[0.99616164]] ,  bias [1.62092562e-16]\n",
            "epoch num 550 , loss 0.0076619828288418835\n",
            "weights [[0.99616164]] ,  bias [1.63268092e-16]\n",
            "epoch num 560 , loss 0.0076619828288418835\n",
            "weights [[0.99616164]] ,  bias [1.64443622e-16]\n",
            "epoch num 570 , loss 0.0076619828288418835\n",
            "weights [[0.99616164]] ,  bias [1.65619152e-16]\n",
            "epoch num 580 , loss 0.0076619828288418835\n",
            "weights [[0.99616164]] ,  bias [1.66794683e-16]\n",
            "epoch num 590 , loss 0.007661982828841883\n",
            "weights [[0.99616164]] ,  bias [1.61961947e-16]\n",
            "epoch num 600 , loss 0.0076619828288418835\n",
            "weights [[0.99616164]] ,  bias [1.63137477e-16]\n",
            "epoch num 610 , loss 0.0076619828288418835\n",
            "weights [[0.99616164]] ,  bias [1.64313008e-16]\n",
            "epoch num 620 , loss 0.0076619828288418835\n",
            "weights [[0.99616164]] ,  bias [1.65488538e-16]\n",
            "epoch num 630 , loss 0.0076619828288418835\n",
            "weights [[0.99616164]] ,  bias [1.66664068e-16]\n",
            "epoch num 640 , loss 0.007661982828841883\n",
            "weights [[0.99616164]] ,  bias [1.61831333e-16]\n",
            "epoch num 650 , loss 0.0076619828288418835\n",
            "weights [[0.99616164]] ,  bias [1.63006863e-16]\n",
            "epoch num 660 , loss 0.0076619828288418835\n",
            "weights [[0.99616164]] ,  bias [1.64182393e-16]\n",
            "epoch num 670 , loss 0.0076619828288418835\n",
            "weights [[0.99616164]] ,  bias [1.65357923e-16]\n",
            "epoch num 680 , loss 0.0076619828288418835\n",
            "weights [[0.99616164]] ,  bias [1.66533454e-16]\n",
            "epoch num 690 , loss 0.0076619828288418835\n",
            "weights [[0.99616164]] ,  bias [1.61700718e-16]\n",
            "epoch num 700 , loss 0.0076619828288418835\n",
            "weights [[0.99616164]] ,  bias [1.62876248e-16]\n",
            "epoch num 710 , loss 0.0076619828288418835\n",
            "weights [[0.99616164]] ,  bias [1.64051779e-16]\n",
            "epoch num 720 , loss 0.0076619828288418835\n",
            "weights [[0.99616164]] ,  bias [1.65227309e-16]\n",
            "epoch num 730 , loss 0.0076619828288418835\n",
            "weights [[0.99616164]] ,  bias [1.66402839e-16]\n",
            "epoch num 740 , loss 0.0076619828288418835\n",
            "weights [[0.99616164]] ,  bias [1.61570104e-16]\n",
            "epoch num 750 , loss 0.0076619828288418835\n",
            "weights [[0.99616164]] ,  bias [1.62745634e-16]\n",
            "epoch num 760 , loss 0.0076619828288418835\n",
            "weights [[0.99616164]] ,  bias [1.63921164e-16]\n",
            "epoch num 770 , loss 0.0076619828288418835\n",
            "weights [[0.99616164]] ,  bias [1.65096694e-16]\n",
            "epoch num 780 , loss 0.0076619828288418835\n",
            "weights [[0.99616164]] ,  bias [1.66272225e-16]\n",
            "epoch num 790 , loss 0.0076619828288418835\n",
            "weights [[0.99616164]] ,  bias [1.61439489e-16]\n",
            "epoch num 800 , loss 0.0076619828288418835\n",
            "weights [[0.99616164]] ,  bias [1.62615019e-16]\n",
            "epoch num 810 , loss 0.0076619828288418835\n",
            "weights [[0.99616164]] ,  bias [1.6379055e-16]\n",
            "epoch num 820 , loss 0.0076619828288418835\n",
            "weights [[0.99616164]] ,  bias [1.6496608e-16]\n",
            "epoch num 830 , loss 0.0076619828288418835\n",
            "weights [[0.99616164]] ,  bias [1.6614161e-16]\n",
            "epoch num 840 , loss 0.0076619828288418835\n",
            "weights [[0.99616164]] ,  bias [1.61308875e-16]\n",
            "epoch num 850 , loss 0.007661982828841883\n",
            "weights [[0.99616164]] ,  bias [1.62484405e-16]\n",
            "epoch num 860 , loss 0.0076619828288418835\n",
            "weights [[0.99616164]] ,  bias [1.63659935e-16]\n",
            "epoch num 870 , loss 0.0076619828288418835\n",
            "weights [[0.99616164]] ,  bias [1.64835466e-16]\n",
            "epoch num 880 , loss 0.0076619828288418835\n",
            "weights [[0.99616164]] ,  bias [1.66010996e-16]\n",
            "epoch num 890 , loss 0.0076619828288418835\n",
            "weights [[0.99616164]] ,  bias [1.67186526e-16]\n",
            "epoch num 900 , loss 0.007661982828841883\n",
            "weights [[0.99616164]] ,  bias [1.62353791e-16]\n",
            "epoch num 910 , loss 0.0076619828288418835\n",
            "weights [[0.99616164]] ,  bias [1.63529321e-16]\n",
            "epoch num 920 , loss 0.0076619828288418835\n",
            "weights [[0.99616164]] ,  bias [1.64704851e-16]\n",
            "epoch num 930 , loss 0.0076619828288418835\n",
            "weights [[0.99616164]] ,  bias [1.65880381e-16]\n",
            "epoch num 940 , loss 0.0076619828288418835\n",
            "weights [[0.99616164]] ,  bias [1.67055912e-16]\n",
            "epoch num 950 , loss 0.007661982828841883\n",
            "weights [[0.99616164]] ,  bias [1.62223176e-16]\n",
            "epoch num 960 , loss 0.0076619828288418835\n",
            "weights [[0.99616164]] ,  bias [1.63398706e-16]\n",
            "epoch num 970 , loss 0.0076619828288418835\n",
            "weights [[0.99616164]] ,  bias [1.64574237e-16]\n",
            "epoch num 980 , loss 0.0076619828288418835\n",
            "weights [[0.99616164]] ,  bias [1.65749767e-16]\n",
            "epoch num 990 , loss 0.0076619828288418835\n"
          ],
          "name": "stdout"
        }
      ]
    },
    {
      "cell_type": "markdown",
      "metadata": {
        "id": "_pNCAJR1pOcx"
      },
      "source": [
        "Evaluation"
      ]
    },
    {
      "cell_type": "code",
      "metadata": {
        "id": "wBYEVDnVof91"
      },
      "source": [
        "pred_train = W*X_train+B\n",
        "pred_val = W*X_val + B"
      ],
      "execution_count": null,
      "outputs": []
    },
    {
      "cell_type": "markdown",
      "metadata": {
        "id": "DnZ-RJ9NpqLe"
      },
      "source": [
        "MSE"
      ]
    },
    {
      "cell_type": "code",
      "metadata": {
        "colab": {
          "base_uri": "https://localhost:8080/"
        },
        "id": "lzEsw1UFpmh6",
        "outputId": "1e44f410-f2eb-4e59-9638-ad33c09244cb"
      },
      "source": [
        "train_mse = np.mean((y_train - pred_train)**2 )\n",
        "val_mse = np.mean((y_val - pred_val)**2)\n",
        "\n",
        "print(f'train MSE {train_mse:.2f} and Val MSE {val_mse:.2f}')"
      ],
      "execution_count": null,
      "outputs": [
        {
          "output_type": "stream",
          "text": [
            "train MSE 0.01 and Val MSE 0.01\n"
          ],
          "name": "stdout"
        }
      ]
    },
    {
      "cell_type": "code",
      "metadata": {
        "colab": {
          "base_uri": "https://localhost:8080/",
          "height": 336
        },
        "id": "baXV_3eeqH_u",
        "outputId": "45aa718c-3f4f-40f0-c79b-2b870daa5861"
      },
      "source": [
        "# Figure size\n",
        "plt.figure(figsize=(15,5))\n",
        "\n",
        "# Plot train data\n",
        "plt.subplot(1, 2, 1)\n",
        "plt.title(\"Train\")\n",
        "plt.scatter(X_train, y_train, label='y_train')\n",
        "plt.plot(X_train, pred_train, color='red', linewidth=1, linestyle='-', label='model')\n",
        "plt.legend(loc='lower right')\n",
        "\n",
        "# Plot test data\n",
        "plt.subplot(1, 2, 2)\n",
        "plt.title(\"Val\")\n",
        "plt.scatter(X_val, y_val, label='y_val')\n",
        "plt.plot(X_val, pred_val, color='red', linewidth=1, linestyle='-', label='model')\n",
        "plt.legend(loc='lower right')\n",
        "\n",
        "# Show plots\n",
        "plt.show()\n"
      ],
      "execution_count": null,
      "outputs": [
        {
          "output_type": "display_data",
          "data": {
            "image/png": "[encoded data removed]",
            "text/plain": [
              "<Figure size 1080x360 with 2 Axes>"
            ]
          },
          "metadata": {
            "needs_background": "light"
          }
        }
      ]
    },
    {
      "cell_type": "markdown",
      "metadata": {
        "id": "PczDRmSsq1Z0"
      },
      "source": [
        "Unscale weights to get the true weights"
      ]
    },
    {
      "cell_type": "code",
      "metadata": {
        "colab": {
          "base_uri": "https://localhost:8080/"
        },
        "id": "awfIblcWqk-W",
        "outputId": "682ea5bc-a02b-4931-9700-3cfd55d5159a"
      },
      "source": [
        "# Unscaled weights\n",
        "W_unscaled = W * (y_train_sd/X_train_sd)\n",
        "b_unscaled = B * y_train_sd + y_train_mean - np.sum(W_unscaled*X_train_mean)\n",
        "print (\"[actual] y = 3.5X + noise\")\n",
        "print (f\"[model] y_hat = {W_unscaled[0][0]:.1f}X + {b_unscaled[0]:.1f}\")\n"
      ],
      "execution_count": null,
      "outputs": [
        {
          "output_type": "stream",
          "text": [
            "[actual] y = 3.5X + noise\n",
            "[model] y_hat = 3.5X + 4.2\n"
          ],
          "name": "stdout"
        }
      ]
    },
    {
      "cell_type": "code",
      "metadata": {
        "colab": {
          "base_uri": "https://localhost:8080/"
        },
        "id": "_swbyD1oq6SP",
        "outputId": "576483c6-c970-45d4-bad9-9b7725e5f5c4"
      },
      "source": [
        "X = 99\n",
        "y_hat = 3.5*X + 4.2\n",
        "print(y_hat)\n",
        "# [98 99] [351.68671427 339.06042395]"
      ],
      "execution_count": null,
      "outputs": [
        {
          "output_type": "stream",
          "text": [
            "350.7\n"
          ],
          "name": "stdout"
        }
      ]
    },
    {
      "cell_type": "markdown",
      "metadata": {
        "id": "DnFdizSiwFeN"
      },
      "source": [
        "PyTorch Implementation"
      ]
    },
    {
      "cell_type": "code",
      "metadata": {
        "colab": {
          "base_uri": "https://localhost:8080/"
        },
        "id": "byuP1Ipxui25",
        "outputId": "8011f657-ae73-45af-a51b-8e3da759bfb4"
      },
      "source": [
        "import torch\n",
        "torch.manual_seed(42)"
      ],
      "execution_count": null,
      "outputs": [
        {
          "output_type": "execute_result",
          "data": {
            "text/plain": [
              "<torch._C.Generator at 0x7ff2c99a8b50>"
            ]
          },
          "metadata": {},
          "execution_count": 17
        }
      ]
    },
    {
      "cell_type": "code",
      "metadata": {
        "colab": {
          "base_uri": "https://localhost:8080/"
        },
        "id": "-uAMCFvCukd6",
        "outputId": "5f0ccb71-d490-46ae-9bed-086904c765f9"
      },
      "source": [
        "from sklearn.model_selection import train_test_split\n",
        "\n",
        "TRAIN_SIZE = 0.7\n",
        "VAL_SIZE = 0.15\n",
        "TEST_SIZE = 0.15\n",
        "\n",
        "# Split (train)\n",
        "X_train, X_, y_train, y_ = train_test_split(X, y, train_size=TRAIN_SIZE)\n",
        "\n",
        "\n",
        "print (f\"train: {len(X_train)} ({(len(X_train) / len(X)):.2f})\\n\"\n",
        "       f\"remaining: {len(X_)} ({(len(X_) / len(X)):.2f})\")\n",
        "\n",
        "\n",
        "print(f\"train: {len(X_train)} ({len(X_train)/len(X):.2f})\\n\"\n",
        "      f\"val: {len(X_val)} ({len(X_val)/len(X):.2f})\\n\"\n",
        "      f\"test: {len(X_test)} ({len(X_test)/len(X):.2f})\")\n"
      ],
      "execution_count": null,
      "outputs": [
        {
          "output_type": "stream",
          "text": [
            "train: 70 (0.70)\n",
            "remaining: 30 (0.30)\n",
            "train: 70 (0.70)\n",
            "val: 10 (0.10)\n",
            "test: 5 (0.05)\n"
          ],
          "name": "stdout"
        }
      ]
    },
    {
      "cell_type": "code",
      "metadata": {
        "colab": {
          "base_uri": "https://localhost:8080/"
        },
        "id": "uMH7dWEkxYUG",
        "outputId": "5362bdd3-758b-460a-a4f6-57e24d27a410"
      },
      "source": [
        "X_val.shape"
      ],
      "execution_count": null,
      "outputs": [
        {
          "output_type": "execute_result",
          "data": {
            "text/plain": [
              "(10, 1)"
            ]
          },
          "metadata": {},
          "execution_count": 23
        }
      ]
    },
    {
      "cell_type": "code",
      "metadata": {
        "id": "6c0m8NNcwdBD"
      },
      "source": [
        "from sklearn.preprocessing import StandardScaler\n",
        "\n",
        "X_scaler = StandardScaler().fit(X_train)\n",
        "y_scaler = StandardScaler().fit(y_train)\n",
        "\n",
        "# Apply scaler on training and test data\n",
        "X_train = X_scaler.transform(X_train)\n",
        "y_train = y_scaler.transform(y_train).ravel().reshape(-1, 1)\n",
        "X_val = X_scaler.transform(X_val)\n",
        "y_val = y_scaler.transform(y_val).ravel().reshape(-1, 1)\n",
        "X_test = X_scaler.transform(X_test)\n",
        "y_test = y_scaler.transform(y_test).ravel().reshape(-1, 1)"
      ],
      "execution_count": null,
      "outputs": []
    },
    {
      "cell_type": "code",
      "metadata": {
        "colab": {
          "base_uri": "https://localhost:8080/"
        },
        "id": "tBXskc4jw2A7",
        "outputId": "46900b73-c13f-48c2-bb87-f7428911c19a"
      },
      "source": [
        "# Check (means should be ~0 and std should be ~1)\n",
        "print (f\"mean: {np.mean(X_test, axis=0)[0]:.1f}, std: {np.std(X_test, axis=0)[0]:.1f}\")\n",
        "print (f\"mean: {np.mean(y_test, axis=0)[0]:.1f}, std: {np.std(y_test, axis=0)[0]:.1f}\")\n"
      ],
      "execution_count": null,
      "outputs": [
        {
          "output_type": "stream",
          "text": [
            "mean: -1.7, std: 0.0\n",
            "mean: -1.7, std: 0.0\n"
          ],
          "name": "stdout"
        }
      ]
    },
    {
      "cell_type": "code",
      "metadata": {
        "id": "UZmOoMnKyEjY"
      },
      "source": [
        "INPUT_DIM = X_train.shape[1]\n",
        "OUTPUT_DIM = y_train.shape[1]"
      ],
      "execution_count": null,
      "outputs": []
    },
    {
      "cell_type": "code",
      "metadata": {
        "colab": {
          "base_uri": "https://localhost:8080/"
        },
        "id": "AAGdWTr5xty2",
        "outputId": "33d23d40-1f24-44ca-914c-da86a95866bb"
      },
      "source": [
        "from torch import nn\n",
        "N=3\n",
        "x = torch.randn(N,INPUT_DIM)\n",
        "print(x.shape)\n",
        "print(x.numpy())"
      ],
      "execution_count": null,
      "outputs": [
        {
          "output_type": "stream",
          "text": [
            "torch.Size([3, 1])\n",
            "[[0.33669037]\n",
            " [0.1288094 ]\n",
            " [0.23446237]]\n"
          ],
          "name": "stdout"
        }
      ]
    },
    {
      "cell_type": "code",
      "metadata": {
        "colab": {
          "base_uri": "https://localhost:8080/"
        },
        "id": "m-Z1CJmWyNrb",
        "outputId": "c51d9a6d-23eb-45a7-dfef-59433f7e6a30"
      },
      "source": [
        "#weights\n",
        "m = nn.Linear(INPUT_DIM,OUTPUT_DIM)\n",
        "print(m)"
      ],
      "execution_count": null,
      "outputs": [
        {
          "output_type": "stream",
          "text": [
            "Linear(in_features=1, out_features=1, bias=True)\n"
          ],
          "name": "stdout"
        }
      ]
    },
    {
      "cell_type": "code",
      "metadata": {
        "colab": {
          "base_uri": "https://localhost:8080/"
        },
        "id": "AEID6qpQytOB",
        "outputId": "cdadd7a5-2913-4d9c-8a52-5f89ea00deaa"
      },
      "source": [
        "print ('weight :', m.weight[0][0].detach().numpy() )\n",
        "print ('bias :', m.bias[0].detach().numpy())"
      ],
      "execution_count": null,
      "outputs": [
        {
          "output_type": "stream",
          "text": [
            "weight : 0.8815429\n",
            "bias : -0.73362815\n"
          ],
          "name": "stdout"
        }
      ]
    },
    {
      "cell_type": "code",
      "metadata": {
        "colab": {
          "base_uri": "https://localhost:8080/"
        },
        "id": "7mQNaTUHyvj5",
        "outputId": "1e121127-c1eb-4e0d-f90a-1e1197637867"
      },
      "source": [
        "#forward pass\n",
        "z = m(x)\n",
        "print(z.detach().numpy())\n",
        "print(z.shape)"
      ],
      "execution_count": null,
      "outputs": [
        {
          "output_type": "stream",
          "text": [
            "[[-0.43682113]\n",
            " [-0.62007713]\n",
            " [-0.5269395 ]]\n",
            "torch.Size([3, 1])\n"
          ],
          "name": "stdout"
        }
      ]
    },
    {
      "cell_type": "code",
      "metadata": {
        "id": "9eLb-4KezXR8"
      },
      "source": [
        "class LR(nn.Module):\n",
        "\n",
        "  def __init__(self,INPUT_DIM,OUTPUT_DIM):\n",
        "    super(LR,self).__init__()\n",
        "    self.fc1 = nn.Linear(INPUT_DIM,OUTPUT_DIM)\n",
        "\n",
        "  def forward(self, xin):\n",
        "    y_pred = self.fc1(xin)\n",
        "    return y_pred"
      ],
      "execution_count": null,
      "outputs": []
    },
    {
      "cell_type": "code",
      "metadata": {
        "colab": {
          "base_uri": "https://localhost:8080/"
        },
        "id": "ccTyd6An1DHC",
        "outputId": "19ab60cf-1783-48b6-f0a5-da2d0bb139f3"
      },
      "source": [
        "#initialize model\n",
        "\n",
        "model = LR(INPUT_DIM=INPUT_DIM, OUTPUT_DIM=OUTPUT_DIM)\n",
        "print(model.named_parameters)"
      ],
      "execution_count": null,
      "outputs": [
        {
          "output_type": "stream",
          "text": [
            "<bound method Module.named_parameters of LR(\n",
            "  (fc1): Linear(in_features=1, out_features=1, bias=True)\n",
            ")>\n"
          ],
          "name": "stdout"
        }
      ]
    },
    {
      "cell_type": "code",
      "metadata": {
        "colab": {
          "base_uri": "https://localhost:8080/"
        },
        "id": "u2Hj4IyM1h_4",
        "outputId": "12c34b33-561a-43f5-a3b3-515578e197ec"
      },
      "source": [
        "loss_fn = nn.MSELoss()\n",
        "y_pred = torch.Tensor([0,0,1,1])\n",
        "y_true = torch.Tensor([1,1,1,1])\n",
        "loss = loss_fn(y_pred,y_true)\n",
        "print('loss :', loss.numpy())"
      ],
      "execution_count": null,
      "outputs": [
        {
          "output_type": "stream",
          "text": [
            "loss : 0.5\n"
          ],
          "name": "stdout"
        }
      ]
    },
    {
      "cell_type": "code",
      "metadata": {
        "id": "s680-xek3Aro"
      },
      "source": [
        "from torch.optim import Adam\n",
        "# Optimizer\n",
        "optimizer = Adam(model.parameters(), lr=LEARNING_RATE)"
      ],
      "execution_count": null,
      "outputs": []
    },
    {
      "cell_type": "code",
      "metadata": {
        "colab": {
          "base_uri": "https://localhost:8080/"
        },
        "id": "oEV4IKfn4FgT",
        "outputId": "c8e236e6-e833-4ca6-d11b-78fee5422b6b"
      },
      "source": [
        "for i in (model.parameters()):\n",
        "  print(i)"
      ],
      "execution_count": null,
      "outputs": [
        {
          "output_type": "stream",
          "text": [
            "Parameter containing:\n",
            "tensor([[0.7388]], requires_grad=True)\n",
            "Parameter containing:\n",
            "tensor([0.1354], requires_grad=True)\n"
          ],
          "name": "stdout"
        }
      ]
    },
    {
      "cell_type": "code",
      "metadata": {
        "id": "-CVQeqrH3M1P"
      },
      "source": [
        "L_R = 0.01\n",
        "optimizer = Adam(model.parameters(), lr=L_R)"
      ],
      "execution_count": null,
      "outputs": []
    },
    {
      "cell_type": "code",
      "metadata": {
        "id": "aPpPzRmA3hxS"
      },
      "source": [
        "# Convert data to tensors\n",
        "X_train = torch.Tensor(X_train)\n",
        "y_train = torch.Tensor(y_train)\n",
        "X_val = torch.Tensor(X_val)\n",
        "y_val = torch.Tensor(y_val)\n",
        "X_test = torch.Tensor(X_test)\n",
        "y_test = torch.Tensor(y_test)\n"
      ],
      "execution_count": null,
      "outputs": []
    },
    {
      "cell_type": "code",
      "metadata": {
        "colab": {
          "base_uri": "https://localhost:8080/"
        },
        "id": "R7nk3bh94Y7O",
        "outputId": "72f8098d-11de-4e9c-f675-c200289842bd"
      },
      "source": [
        "NUM_EPOCHS = 100\n",
        "for epochs in range(NUM_EPOCHS):\n",
        "\n",
        "  y_pred = model(X_train)\n",
        "\n",
        "  loss = loss_fn(y_pred,y_train)\n",
        "\n",
        "  optimizer.zero_grad()\n",
        "\n",
        "  loss.backward()\n",
        "\n",
        "  optimizer.step()\n",
        "\n",
        "  if epochs%20==0:\n",
        "        print (f\"Epoch: {epochs} | loss: {loss:.2f}\")"
      ],
      "execution_count": null,
      "outputs": [
        {
          "output_type": "stream",
          "text": [
            "Epoch: 0 | loss: 0.03\n",
            "Epoch: 20 | loss: 0.01\n",
            "Epoch: 40 | loss: 0.01\n",
            "Epoch: 60 | loss: 0.01\n",
            "Epoch: 80 | loss: 0.01\n"
          ],
          "name": "stdout"
        }
      ]
    },
    {
      "cell_type": "code",
      "metadata": {
        "colab": {
          "base_uri": "https://localhost:8080/"
        },
        "id": "EXzQxSEa5F-v",
        "outputId": "e3c7806a-4411-4884-d031-4bcc5687fbc5"
      },
      "source": [
        "# Predictions\n",
        "pred_train = model(X_train)\n",
        "pred_test = model(X_test)\n",
        "\n",
        "\n",
        "# Performance\n",
        "train_error = loss_fn(pred_train, y_train)\n",
        "test_error = loss_fn(pred_test, y_test)\n",
        "print(f'train_error: {train_error:.2f}')\n",
        "print(f'test_error: {test_error:.2f}')\n"
      ],
      "execution_count": null,
      "outputs": [
        {
          "output_type": "stream",
          "text": [
            "train_error: 0.01\n",
            "test_error: 0.00\n"
          ],
          "name": "stdout"
        }
      ]
    },
    {
      "cell_type": "code",
      "metadata": {
        "colab": {
          "base_uri": "https://localhost:8080/",
          "height": 336
        },
        "id": "do6xjnZT5kyF",
        "outputId": "1c1832f0-5a6f-4a25-ec0f-47373538edab"
      },
      "source": [
        "# Figure size\n",
        "plt.figure(figsize=(15,5))\n",
        "\n",
        "# Plot train data\n",
        "plt.subplot(1, 2, 1)\n",
        "plt.title(\"Train\")\n",
        "plt.scatter(X_train, y_train, label='y_train')\n",
        "plt.plot(X_train, pred_train.detach().numpy(), color='red', linewidth=1, linestyle='-', label='model')\n",
        "plt.legend(loc='lower right')\n",
        "\n",
        "# Plot test data\n",
        "plt.subplot(1, 2, 2)\n",
        "plt.title(\"Test\")\n",
        "plt.scatter(X_test, y_test, label='y_test')\n",
        "plt.plot(X_test, pred_test.detach().numpy(), color='red', linewidth=1, linestyle='-', label='model')\n",
        "plt.legend(loc='lower right')\n",
        "\n",
        "# Show plots\n",
        "plt.show()\n"
      ],
      "execution_count": null,
      "outputs": [
        {
          "output_type": "display_data",
          "data": {
            "image/png": "[encoded data removed]",
            "text/plain": [
              "<Figure size 1080x360 with 2 Axes>"
            ]
          },
          "metadata": {
            "needs_background": "light"
          }
        }
      ]
    },
    {
      "cell_type": "code",
      "metadata": {
        "id": "FlaRAmTS5nnJ"
      },
      "source": [
        "# Feed in your own inputs\n",
        "sample_indices = [10, 15, 25]\n",
        "X_infer = np.array(sample_indices, dtype=np.float32)\n",
        "X_infer = torch.Tensor(X_scaler.transform(X_infer.reshape(-1, 1)))\n"
      ],
      "execution_count": null,
      "outputs": []
    },
    {
      "cell_type": "code",
      "metadata": {
        "colab": {
          "base_uri": "https://localhost:8080/"
        },
        "id": "HxHJqsPk5sFu",
        "outputId": "a6c8a426-6518-42a8-8728-b6ab21fee5b3"
      },
      "source": [
        "# Unstandardize predictions\n",
        "pred_infer = model(X_infer).detach().numpy() * np.sqrt(y_scaler.var_) + y_scaler.mean_\n",
        "for i, index in enumerate(sample_indices):\n",
        "    print (f\"{df.iloc[index]['y']:.2f} (actual) → {pred_infer[i][0]:.2f} (predicted)\")\n"
      ],
      "execution_count": null,
      "outputs": [
        {
          "output_type": "stream",
          "text": [
            "25.62 (actual) → 37.99 (predicted)\n",
            "48.00 (actual) → 55.64 (predicted)\n",
            "101.06 (actual) → 90.92 (predicted)\n"
          ],
          "name": "stdout"
        }
      ]
    },
    {
      "cell_type": "code",
      "metadata": {
        "colab": {
          "base_uri": "https://localhost:8080/"
        },
        "id": "5S3ijwR854Nc",
        "outputId": "59dd3f6d-3713-497c-de08-24c9f083b6af"
      },
      "source": [
        "# Unstandardize coefficients\n",
        "W = model.fc1.weight.data.numpy()[0][0]\n",
        "b = model.fc1.bias.data.numpy()[0]\n",
        "W_unscaled = W * (y_scaler.scale_/X_scaler.scale_)\n",
        "b_unscaled = b * y_scaler.scale_ + y_scaler.mean_ - np.sum(W_unscaled*X_scaler.mean_)\n",
        "print (\"[actual] y = 3.5X + noise\")\n",
        "print (f\"[model] y_hat = {W_unscaled[0]:.1f}X + {b_unscaled[0]:.1f}\")\n"
      ],
      "execution_count": null,
      "outputs": [
        {
          "output_type": "stream",
          "text": [
            "[actual] y = 3.5X + noise\n",
            "[model] y_hat = 3.5X + 2.7\n"
          ],
          "name": "stdout"
        }
      ]
    },
    {
      "cell_type": "code",
      "metadata": {
        "id": "krt1ukNW6HF4"
      },
      "source": [
        "L2_LAMBDA = 1e-2\n",
        "\n",
        "model = LR(INPUT_DIM = INPUT_DIM , OUTPUT_DIM = OUTPUT_DIM)\n",
        "optimizer = Adam(model.parameters() , lr=L_R, weight_decay= L2_LAMBDA)"
      ],
      "execution_count": null,
      "outputs": []
    },
    {
      "cell_type": "code",
      "metadata": {
        "colab": {
          "base_uri": "https://localhost:8080/"
        },
        "id": "mlUuf6qm6xyK",
        "outputId": "7a387112-c025-4259-8919-f03f069ca960"
      },
      "source": [
        "# Training\n",
        "for epoch in range(NUM_EPOCHS):\n",
        "    # Forward pass\n",
        "    y_pred = model(X_train)\n",
        "\n",
        "    # Loss\n",
        "    loss = loss_fn(y_pred, y_train)\n",
        "\n",
        "    # Zero all gradients\n",
        "    optimizer.zero_grad()\n",
        "\n",
        "    # Backward pass\n",
        "    loss.backward()\n",
        "\n",
        "    # Update weights\n",
        "    optimizer.step()\n",
        "\n",
        "    if epoch%20==0:\n",
        "        print (f\"Epoch: {epoch} | loss: {loss:.2f}\")\n"
      ],
      "execution_count": null,
      "outputs": [
        {
          "output_type": "stream",
          "text": [
            "Epoch: 0 | loss: 0.08\n",
            "Epoch: 20 | loss: 0.01\n",
            "Epoch: 40 | loss: 0.01\n",
            "Epoch: 60 | loss: 0.01\n",
            "Epoch: 80 | loss: 0.01\n"
          ],
          "name": "stdout"
        }
      ]
    },
    {
      "cell_type": "code",
      "metadata": {
        "id": "wnKofOmK61kp"
      },
      "source": [
        "# Predictions\n",
        "pred_train = model(X_train)\n",
        "pred_test = model(X_test)\n"
      ],
      "execution_count": null,
      "outputs": []
    },
    {
      "cell_type": "code",
      "metadata": {
        "colab": {
          "base_uri": "https://localhost:8080/"
        },
        "id": "QUERSdc263zi",
        "outputId": "d7137d3c-dbb3-4747-ff90-390cee23f76e"
      },
      "source": [
        "# Performance\n",
        "train_error = loss_fn(pred_train, y_train)\n",
        "test_error = loss_fn(pred_test, y_test)\n",
        "print(f'train_error: {train_error:.2f}')\n",
        "print(f'test_error: {test_error:.2f}')\n"
      ],
      "execution_count": null,
      "outputs": [
        {
          "output_type": "stream",
          "text": [
            "train_error: 0.01\n",
            "test_error: 0.00\n"
          ],
          "name": "stdout"
        }
      ]
    },
    {
      "cell_type": "code",
      "metadata": {
        "id": "Tb1pgP5T65Db"
      },
      "source": [
        ""
      ],
      "execution_count": null,
      "outputs": []
    }
  ]
}